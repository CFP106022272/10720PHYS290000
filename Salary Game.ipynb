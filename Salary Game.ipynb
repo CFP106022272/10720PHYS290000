{
 "cells": [
  {
   "cell_type": "code",
   "execution_count": 209,
   "metadata": {},
   "outputs": [
    {
     "name": "stdout",
     "output_type": "stream",
     "text": [
      "[40, 30, 50, 20, 40, 50, 20, 30, 30, 30, 50, 50, 50, 40, 50, 50, 20, 50, 40, 30, 50, 40, 40, 50, 30, 90, 20, 40, 20, 50]\n"
     ]
    },
    {
     "data": {
      "image/png": "[encoded data removed]",
      "text/plain": [
       "<Figure size 432x288 with 1 Axes>"
      ]
     },
     "metadata": {
      "needs_background": "light"
     },
     "output_type": "display_data"
    }
   ],
   "source": [
    "#總共有30位學生\n",
    "n=30\n",
    "#一開始每個學生有40K元\n",
    "m=40\n",
    "#輸的人給贏的人10K元\n",
    "dm=10\n",
    "#總猜拳數達到30次時停止\n",
    "k=30\n",
    "\n",
    "#財產清單(30位學生)\n",
    "money=[m,m,m,m,m,m,m,m,m,m,m,m,m,m,m,m,m,m,m,m,m,m,m,m,m,m,m,m,m,m]\n",
    "\n",
    "#總猜拳數達到k次時停止\n",
    "for i in range(k):\n",
    "    \n",
    "    #任意抓兩個學生\n",
    "    import random\n",
    "    A=0 \n",
    "    B=n-1 \n",
    "    COUNT=2\n",
    "    r1=random.sample(range(A,B+1),COUNT)\n",
    "    #print(r1)\n",
    "    s1=r1[0]\n",
    "    s2=r1[1]\n",
    "    #print(s1,s2)\n",
    "\n",
    "    #猜拳(paper=1,scissor=2,stone=3)\n",
    "    r2=random.randint(1, 3)\n",
    "    r3=random.randint(1, 3)\n",
    "    #print(r2,r3)\n",
    "    if (r2==1 and r3==3) or (r2==2 and r3==1) or (r2==3 and r3==2):\n",
    "        #print(\"win\")\n",
    "        money[s1]+=dm\n",
    "        money[s2]-=dm\n",
    "        #print(money)\n",
    "    elif (r2==1 and r3==2) or (r2==2 and r3==3) or (r2==3 and r3==1):\n",
    "        #print(\"lose\")\n",
    "        money[s1]-=dm\n",
    "        money[s2]+=dm\n",
    "        #print(money)\n",
    "    else:\n",
    "        #print(\"deuce\")\n",
    "        money[s1]=money[s1]\n",
    "        money[s2]=money[s2]\n",
    "        #print(money)\n",
    "print(money)\n",
    "\n",
    "#繪製學生最後財產的直方圖(可負債)\n",
    "import numpy as np\n",
    "import matplotlib.pyplot as plt\n",
    "plt.hist(money)\n",
    "plt.xlabel('Money')\n",
    "plt.ylabel('Number of Students')\n",
    "plt.show()"
   ]
  }
 ],
 "metadata": {
  "kernelspec": {
   "display_name": "Python 3",
   "language": "python",
   "name": "python3"
  },
  "language_info": {
   "codemirror_mode": {
    "name": "ipython",
    "version": 3
   },
   "file_extension": ".py",
   "mimetype": "text/x-python",
   "name": "python",
   "nbconvert_exporter": "python",
   "pygments_lexer": "ipython3",
   "version": "3.7.1"
  }
 },
 "nbformat": 4,
 "nbformat_minor": 2
}
