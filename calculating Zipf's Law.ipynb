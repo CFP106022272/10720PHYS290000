{
 "cells": [
  {
   "cell_type": "code",
   "execution_count": 7,
   "metadata": {},
   "outputs": [
    {
     "name": "stdout",
     "output_type": "stream",
     "text": [
      "﻿Project Gutenberg's Alice's Adventures in Wonderland, by Lewis Carroll\n",
      "\n",
      "<class 'str'>\n",
      "﻿Project Gutenberg's Alice's Adventures in Wonderland, by Lewis Carroll\n",
      "\n",
      "<class 'str'>\n",
      "﻿Project Gutenberg's Alice's Adventures in Wonderland, by Lewis Carroll\n",
      "\n",
      "<class 'str'>\n",
      "['\\ufeffProject', \"Gutenberg's\", \"Alice's\", 'Adventures', 'in', 'Wonderland,', 'by', 'Lewis', 'Carroll']\n",
      "<class 'list'>\n"
     ]
    }
   ],
   "source": [
    "fp=open('Alice.txt','r',encoding='UTF-8')\n",
    "\n",
    "line=fp.readline()\n",
    "print(line)\n",
    "print(type(line))\n",
    "\n",
    "print(line)\n",
    "print(type(line))\n",
    "\n",
    "print(line)\n",
    "print(type(line))\n",
    "\n",
    "s=line.split()\n",
    "print(s)\n",
    "print(type(s))\n",
    "\n",
    "fp.close()"
   ]
  },
  {
   "cell_type": "code",
   "execution_count": 12,
   "metadata": {},
   "outputs": [
    {
     "name": "stdout",
     "output_type": "stream",
     "text": [
      "6331\n"
     ]
    },
    {
     "data": {
      "image/png": "[encoded data removed]",
      "text/plain": [
       "<Figure size 432x288 with 1 Axes>"
      ]
     },
     "metadata": {
      "needs_background": "light"
     },
     "output_type": "display_data"
    }
   ],
   "source": [
    "import matplotlib.pyplot as plt\n",
    "fp=open('Alice.txt','r',encoding='UTF-8')\n",
    "line=fp.readline()\n",
    "my_dict={}\n",
    "while line:\n",
    "    s=line.split()\n",
    "    for x in s:\n",
    "        if x not in my_dict:\n",
    "            my_dict[x]=1\n",
    "        else:\n",
    "            my_dict[x]=my_dict[x]+1\n",
    "    line=fp.readline()\n",
    "    \n",
    "fp.close()\n",
    "\n",
    "num=[]\n",
    "for key in my_dict:\n",
    "    num.append(my_dict[key])\n",
    "    \n",
    "print(len(num))\n",
    "num.sort()\n",
    "num.reverse()\n",
    "\n",
    "plt.loglog(range(len(num)),num)\n",
    "plt.xlabel('Rank of the word')\n",
    "plt.ylabel('Number of the occurance')\n",
    "plt.show()"
   ]
  },
  {
   "cell_type": "code",
   "execution_count": null,
   "metadata": {},
   "outputs": [],
   "source": []
  }
 ],
 "metadata": {
  "kernelspec": {
   "display_name": "Python 3",
   "language": "python",
   "name": "python3"
  },
  "language_info": {
   "codemirror_mode": {
    "name": "ipython",
    "version": 3
   },
   "file_extension": ".py",
   "mimetype": "text/x-python",
   "name": "python",
   "nbconvert_exporter": "python",
   "pygments_lexer": "ipython3",
   "version": "3.7.1"
  }
 },
 "nbformat": 4,
 "nbformat_minor": 2
}
